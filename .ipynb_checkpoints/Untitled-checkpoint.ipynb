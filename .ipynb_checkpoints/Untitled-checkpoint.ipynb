{
 "cells": [
  {
   "cell_type": "markdown",
   "id": "8875e155",
   "metadata": {},
   "source": [
    "## Part B \n",
    "Logistic Regression\n",
    "----------------------------------------------------------------------------------"
   ]
  },
  {
   "cell_type": "markdown",
   "id": "ae743aa1",
   "metadata": {},
   "source": [
    "<div style=\"color:black; border-radius: 5px; background-color:#E7E9EB;padding: 10px;\">\n",
    "    <p style=\"  padding: 5px;\"><b>Finding 1 : </b>\n",
    "       Importing Libraries\n",
    " </p>\n",
    "</div>\n",
    "\n",
    "<div style=\"color:black; border-radius: 5px; margin: 5px 0;font-family:'Source Sans Pro', sans-serif;\">\n",
    " <h4 style=\"border-left: 4px solid #96D4D4; background: #D9EEE1; padding: 5px; font-family:'Source Sans Pro', sans-serif;\">Code</h4>\n",
    "</div>"
   ]
  },
  {
   "cell_type": "code",
   "execution_count": 1,
   "id": "51e4248e",
   "metadata": {},
   "outputs": [],
   "source": [
    "import numpy as np\n",
    "import matplotlib.pyplot as plt\n",
    "import pandas as pd\n",
    "import math"
   ]
  },
  {
   "cell_type": "markdown",
   "id": "fec5c25e",
   "metadata": {},
   "source": [
    "<div style=\"color:black; border-radius: 5px; background-color:#E7E9EB;padding: 10px;\">\n",
    "    <p style=\"  padding: 5px;\"><b>Finding 2 : </b>\n",
    "       Load Dataset\n",
    " </p>\n",
    "</div>\n",
    "\n",
    "<div style=\"color:black; border-radius: 5px; margin: 5px 0;font-family:'Source Sans Pro', sans-serif;\">\n",
    " <h4 style=\"border-left: 4px solid #96D4D4; background: #D9EEE1; padding: 5px; font-family:'Source Sans Pro', sans-serif;\">Code</h4>\n",
    "</div>"
   ]
  },
  {
   "cell_type": "code",
   "execution_count": 2,
   "id": "8bb926fb",
   "metadata": {},
   "outputs": [],
   "source": [
    "dataset = pd.read_csv('heart.csv') "
   ]
  },
  {
   "cell_type": "code",
   "execution_count": 3,
   "id": "e44c1256",
   "metadata": {},
   "outputs": [
    {
     "data": {
      "text/html": [
       "<div>\n",
       "<style scoped>\n",
       "    .dataframe tbody tr th:only-of-type {\n",
       "        vertical-align: middle;\n",
       "    }\n",
       "\n",
       "    .dataframe tbody tr th {\n",
       "        vertical-align: top;\n",
       "    }\n",
       "\n",
       "    .dataframe thead th {\n",
       "        text-align: right;\n",
       "    }\n",
       "</style>\n",
       "<table border=\"1\" class=\"dataframe\">\n",
       "  <thead>\n",
       "    <tr style=\"text-align: right;\">\n",
       "      <th></th>\n",
       "      <th>age</th>\n",
       "      <th>sex</th>\n",
       "      <th>cp</th>\n",
       "      <th>trestbps</th>\n",
       "      <th>chol</th>\n",
       "      <th>fbs</th>\n",
       "      <th>restecg</th>\n",
       "      <th>thalach</th>\n",
       "      <th>exang</th>\n",
       "      <th>oldpeak</th>\n",
       "      <th>slope</th>\n",
       "      <th>ca</th>\n",
       "      <th>thal</th>\n",
       "      <th>target</th>\n",
       "    </tr>\n",
       "  </thead>\n",
       "  <tbody>\n",
       "    <tr>\n",
       "      <th>0</th>\n",
       "      <td>63</td>\n",
       "      <td>1</td>\n",
       "      <td>3</td>\n",
       "      <td>145</td>\n",
       "      <td>233</td>\n",
       "      <td>1</td>\n",
       "      <td>0</td>\n",
       "      <td>150</td>\n",
       "      <td>0</td>\n",
       "      <td>2.3</td>\n",
       "      <td>0</td>\n",
       "      <td>0</td>\n",
       "      <td>1</td>\n",
       "      <td>1</td>\n",
       "    </tr>\n",
       "    <tr>\n",
       "      <th>1</th>\n",
       "      <td>37</td>\n",
       "      <td>1</td>\n",
       "      <td>2</td>\n",
       "      <td>130</td>\n",
       "      <td>250</td>\n",
       "      <td>0</td>\n",
       "      <td>1</td>\n",
       "      <td>187</td>\n",
       "      <td>0</td>\n",
       "      <td>3.5</td>\n",
       "      <td>0</td>\n",
       "      <td>0</td>\n",
       "      <td>2</td>\n",
       "      <td>1</td>\n",
       "    </tr>\n",
       "    <tr>\n",
       "      <th>2</th>\n",
       "      <td>41</td>\n",
       "      <td>0</td>\n",
       "      <td>1</td>\n",
       "      <td>130</td>\n",
       "      <td>204</td>\n",
       "      <td>0</td>\n",
       "      <td>0</td>\n",
       "      <td>172</td>\n",
       "      <td>0</td>\n",
       "      <td>1.4</td>\n",
       "      <td>2</td>\n",
       "      <td>0</td>\n",
       "      <td>2</td>\n",
       "      <td>1</td>\n",
       "    </tr>\n",
       "    <tr>\n",
       "      <th>3</th>\n",
       "      <td>56</td>\n",
       "      <td>1</td>\n",
       "      <td>1</td>\n",
       "      <td>120</td>\n",
       "      <td>236</td>\n",
       "      <td>0</td>\n",
       "      <td>1</td>\n",
       "      <td>178</td>\n",
       "      <td>0</td>\n",
       "      <td>0.8</td>\n",
       "      <td>2</td>\n",
       "      <td>0</td>\n",
       "      <td>2</td>\n",
       "      <td>1</td>\n",
       "    </tr>\n",
       "    <tr>\n",
       "      <th>4</th>\n",
       "      <td>57</td>\n",
       "      <td>0</td>\n",
       "      <td>0</td>\n",
       "      <td>120</td>\n",
       "      <td>354</td>\n",
       "      <td>0</td>\n",
       "      <td>1</td>\n",
       "      <td>163</td>\n",
       "      <td>1</td>\n",
       "      <td>0.6</td>\n",
       "      <td>2</td>\n",
       "      <td>0</td>\n",
       "      <td>2</td>\n",
       "      <td>1</td>\n",
       "    </tr>\n",
       "  </tbody>\n",
       "</table>\n",
       "</div>"
      ],
      "text/plain": [
       "   age  sex  cp  trestbps  chol  fbs  restecg  thalach  exang  oldpeak  slope  \\\n",
       "0   63    1   3       145   233    1        0      150      0      2.3      0   \n",
       "1   37    1   2       130   250    0        1      187      0      3.5      0   \n",
       "2   41    0   1       130   204    0        0      172      0      1.4      2   \n",
       "3   56    1   1       120   236    0        1      178      0      0.8      2   \n",
       "4   57    0   0       120   354    0        1      163      1      0.6      2   \n",
       "\n",
       "   ca  thal  target  \n",
       "0   0     1       1  \n",
       "1   0     2       1  \n",
       "2   0     2       1  \n",
       "3   0     2       1  \n",
       "4   0     2       1  "
      ]
     },
     "execution_count": 3,
     "metadata": {},
     "output_type": "execute_result"
    }
   ],
   "source": [
    "dataset.head()"
   ]
  },
  {
   "cell_type": "markdown",
   "id": "4cbcda55",
   "metadata": {},
   "source": [
    "<div style=\"color:black; border-radius: 5px; background-color:#E7E9EB;padding: 10px;\">\n",
    "    <p style=\"  padding: 5px;\"><b>Finding 3 : </b>\n",
    "       Define X and Y for simple linear regression \n",
    " </p>\n",
    "</div>\n",
    "\n",
    "<div style=\"color:black; border-radius: 5px; margin: 5px 0;font-family:'Source Sans Pro', sans-serif;\">\n",
    " <h4 style=\"border-left: 4px solid #96D4D4; background: #D9EEE1; padding: 5px; font-family:'Source Sans Pro', sans-serif;\">Code</h4>\n",
    "</div>"
   ]
  },
  {
   "cell_type": "code",
   "execution_count": 4,
   "id": "420d7141",
   "metadata": {},
   "outputs": [],
   "source": [
    "X = dataset[[\"trestbps\" , \"chol\" , \"thalach\" , \"oldpeak\"]]"
   ]
  },
  {
   "cell_type": "code",
   "execution_count": 5,
   "id": "1d9e0967",
   "metadata": {},
   "outputs": [
    {
     "data": {
      "text/html": [
       "<div>\n",
       "<style scoped>\n",
       "    .dataframe tbody tr th:only-of-type {\n",
       "        vertical-align: middle;\n",
       "    }\n",
       "\n",
       "    .dataframe tbody tr th {\n",
       "        vertical-align: top;\n",
       "    }\n",
       "\n",
       "    .dataframe thead th {\n",
       "        text-align: right;\n",
       "    }\n",
       "</style>\n",
       "<table border=\"1\" class=\"dataframe\">\n",
       "  <thead>\n",
       "    <tr style=\"text-align: right;\">\n",
       "      <th></th>\n",
       "      <th>trestbps</th>\n",
       "      <th>chol</th>\n",
       "      <th>thalach</th>\n",
       "      <th>oldpeak</th>\n",
       "    </tr>\n",
       "  </thead>\n",
       "  <tbody>\n",
       "    <tr>\n",
       "      <th>0</th>\n",
       "      <td>145</td>\n",
       "      <td>233</td>\n",
       "      <td>150</td>\n",
       "      <td>2.3</td>\n",
       "    </tr>\n",
       "    <tr>\n",
       "      <th>1</th>\n",
       "      <td>130</td>\n",
       "      <td>250</td>\n",
       "      <td>187</td>\n",
       "      <td>3.5</td>\n",
       "    </tr>\n",
       "    <tr>\n",
       "      <th>2</th>\n",
       "      <td>130</td>\n",
       "      <td>204</td>\n",
       "      <td>172</td>\n",
       "      <td>1.4</td>\n",
       "    </tr>\n",
       "    <tr>\n",
       "      <th>3</th>\n",
       "      <td>120</td>\n",
       "      <td>236</td>\n",
       "      <td>178</td>\n",
       "      <td>0.8</td>\n",
       "    </tr>\n",
       "    <tr>\n",
       "      <th>4</th>\n",
       "      <td>120</td>\n",
       "      <td>354</td>\n",
       "      <td>163</td>\n",
       "      <td>0.6</td>\n",
       "    </tr>\n",
       "    <tr>\n",
       "      <th>...</th>\n",
       "      <td>...</td>\n",
       "      <td>...</td>\n",
       "      <td>...</td>\n",
       "      <td>...</td>\n",
       "    </tr>\n",
       "    <tr>\n",
       "      <th>298</th>\n",
       "      <td>140</td>\n",
       "      <td>241</td>\n",
       "      <td>123</td>\n",
       "      <td>0.2</td>\n",
       "    </tr>\n",
       "    <tr>\n",
       "      <th>299</th>\n",
       "      <td>110</td>\n",
       "      <td>264</td>\n",
       "      <td>132</td>\n",
       "      <td>1.2</td>\n",
       "    </tr>\n",
       "    <tr>\n",
       "      <th>300</th>\n",
       "      <td>144</td>\n",
       "      <td>193</td>\n",
       "      <td>141</td>\n",
       "      <td>3.4</td>\n",
       "    </tr>\n",
       "    <tr>\n",
       "      <th>301</th>\n",
       "      <td>130</td>\n",
       "      <td>131</td>\n",
       "      <td>115</td>\n",
       "      <td>1.2</td>\n",
       "    </tr>\n",
       "    <tr>\n",
       "      <th>302</th>\n",
       "      <td>130</td>\n",
       "      <td>236</td>\n",
       "      <td>174</td>\n",
       "      <td>0.0</td>\n",
       "    </tr>\n",
       "  </tbody>\n",
       "</table>\n",
       "<p>303 rows × 4 columns</p>\n",
       "</div>"
      ],
      "text/plain": [
       "     trestbps  chol  thalach  oldpeak\n",
       "0         145   233      150      2.3\n",
       "1         130   250      187      3.5\n",
       "2         130   204      172      1.4\n",
       "3         120   236      178      0.8\n",
       "4         120   354      163      0.6\n",
       "..        ...   ...      ...      ...\n",
       "298       140   241      123      0.2\n",
       "299       110   264      132      1.2\n",
       "300       144   193      141      3.4\n",
       "301       130   131      115      1.2\n",
       "302       130   236      174      0.0\n",
       "\n",
       "[303 rows x 4 columns]"
      ]
     },
     "execution_count": 5,
     "metadata": {},
     "output_type": "execute_result"
    }
   ],
   "source": [
    "X"
   ]
  },
  {
   "cell_type": "code",
   "execution_count": 6,
   "id": "29f29a3f",
   "metadata": {},
   "outputs": [
    {
     "data": {
      "text/plain": [
       "(303, 4)"
      ]
     },
     "execution_count": 6,
     "metadata": {},
     "output_type": "execute_result"
    }
   ],
   "source": [
    "X.shape"
   ]
  },
  {
   "cell_type": "code",
   "execution_count": 7,
   "id": "8e6e72a4",
   "metadata": {},
   "outputs": [],
   "source": [
    "y = dataset[[\"target\"]]"
   ]
  },
  {
   "cell_type": "code",
   "execution_count": 8,
   "id": "d736a07e",
   "metadata": {},
   "outputs": [
    {
     "data": {
      "text/html": [
       "<div>\n",
       "<style scoped>\n",
       "    .dataframe tbody tr th:only-of-type {\n",
       "        vertical-align: middle;\n",
       "    }\n",
       "\n",
       "    .dataframe tbody tr th {\n",
       "        vertical-align: top;\n",
       "    }\n",
       "\n",
       "    .dataframe thead th {\n",
       "        text-align: right;\n",
       "    }\n",
       "</style>\n",
       "<table border=\"1\" class=\"dataframe\">\n",
       "  <thead>\n",
       "    <tr style=\"text-align: right;\">\n",
       "      <th></th>\n",
       "      <th>target</th>\n",
       "    </tr>\n",
       "  </thead>\n",
       "  <tbody>\n",
       "    <tr>\n",
       "      <th>0</th>\n",
       "      <td>1</td>\n",
       "    </tr>\n",
       "    <tr>\n",
       "      <th>1</th>\n",
       "      <td>1</td>\n",
       "    </tr>\n",
       "    <tr>\n",
       "      <th>2</th>\n",
       "      <td>1</td>\n",
       "    </tr>\n",
       "    <tr>\n",
       "      <th>3</th>\n",
       "      <td>1</td>\n",
       "    </tr>\n",
       "    <tr>\n",
       "      <th>4</th>\n",
       "      <td>1</td>\n",
       "    </tr>\n",
       "    <tr>\n",
       "      <th>...</th>\n",
       "      <td>...</td>\n",
       "    </tr>\n",
       "    <tr>\n",
       "      <th>298</th>\n",
       "      <td>0</td>\n",
       "    </tr>\n",
       "    <tr>\n",
       "      <th>299</th>\n",
       "      <td>0</td>\n",
       "    </tr>\n",
       "    <tr>\n",
       "      <th>300</th>\n",
       "      <td>0</td>\n",
       "    </tr>\n",
       "    <tr>\n",
       "      <th>301</th>\n",
       "      <td>0</td>\n",
       "    </tr>\n",
       "    <tr>\n",
       "      <th>302</th>\n",
       "      <td>0</td>\n",
       "    </tr>\n",
       "  </tbody>\n",
       "</table>\n",
       "<p>303 rows × 1 columns</p>\n",
       "</div>"
      ],
      "text/plain": [
       "     target\n",
       "0         1\n",
       "1         1\n",
       "2         1\n",
       "3         1\n",
       "4         1\n",
       "..      ...\n",
       "298       0\n",
       "299       0\n",
       "300       0\n",
       "301       0\n",
       "302       0\n",
       "\n",
       "[303 rows x 1 columns]"
      ]
     },
     "execution_count": 8,
     "metadata": {},
     "output_type": "execute_result"
    }
   ],
   "source": [
    "y"
   ]
  },
  {
   "cell_type": "code",
   "execution_count": 9,
   "id": "aa8e6068",
   "metadata": {},
   "outputs": [
    {
     "data": {
      "text/plain": [
       "(303, 1)"
      ]
     },
     "execution_count": 9,
     "metadata": {},
     "output_type": "execute_result"
    }
   ],
   "source": [
    "y.shape"
   ]
  },
  {
   "cell_type": "markdown",
   "id": "43a8bfa0",
   "metadata": {},
   "source": [
    "<div style=\"color:black; border-radius: 5px; background-color:#E7E9EB;padding: 10px;\">\n",
    "    <p style=\"  padding: 5px;\"><b>Finding 4 : </b>\n",
    "       Visualizaing the data\n",
    " </p>\n",
    "</div>\n",
    "\n",
    "<div style=\"color:black; border-radius: 5px; margin: 5px 0;font-family:'Source Sans Pro', sans-serif;\">\n",
    " <h4 style=\"border-left: 4px solid #96D4D4; background: #D9EEE1; padding: 5px; font-family:'Source Sans Pro', sans-serif;\">Code</h4>\n",
    "</div>"
   ]
  },
  {
   "cell_type": "markdown",
   "id": "b8a52f36",
   "metadata": {},
   "source": [
    "<div style=\"color:black; border-radius: 5px; background-color:#E7E9EB;padding: 10px;\">\n",
    "    <p style=\"  padding: 5px;\"><b>Finding 5 : </b>\n",
    "       Implementation \n",
    " </p>\n",
    "</div>\n",
    "\n",
    "<div style=\"color:black; border-radius: 5px; margin: 5px 0;font-family:'Source Sans Pro', sans-serif;\">\n",
    " <h4 style=\"border-left: 4px solid #96D4D4; background: #D9EEE1; padding: 5px; font-family:'Source Sans Pro', sans-serif;\">Code</h4>\n",
    "</div>"
   ]
  },
  {
   "cell_type": "markdown",
   "id": "b91f6833",
   "metadata": {},
   "source": [
    "<div style=\"color:black; border-radius: 5px; background-color:#E7E9EB;padding: 10px;\">\n",
    "    <p style=\"  padding: 5px;\"><b>Finding 5.1 : </b>\n",
    "       Sigmoid Function\n",
    " </p>\n",
    "</div>\n",
    "\n",
    "<div style=\"color:black; border-radius: 5px; margin: 5px 0;font-family:'Source Sans Pro', sans-serif;\">\n",
    " <h4 style=\"border-left: 4px solid #96D4D4; background: #D9EEE1; padding: 5px; font-family:'Source Sans Pro', sans-serif;\">Code</h4>\n",
    "</div>"
   ]
  },
  {
   "cell_type": "code",
   "execution_count": 26,
   "id": "0cd4fef1",
   "metadata": {},
   "outputs": [],
   "source": [
    "def sigmoid(z):\n",
    "    return 1 / (1 + np.exp(-z))"
   ]
  },
  {
   "cell_type": "code",
   "execution_count": 27,
   "id": "eaa52669",
   "metadata": {},
   "outputs": [
    {
     "name": "stdout",
     "output_type": "stream",
     "text": [
      "0.7310585786300049\n"
     ]
    }
   ],
   "source": [
    "print(sigmoid(1))"
   ]
  },
  {
   "cell_type": "markdown",
   "id": "000131ec",
   "metadata": {},
   "source": [
    "<div style=\"color:black; border-radius: 5px; background-color:#E7E9EB;padding: 10px;\">\n",
    "    <p style=\"  padding: 5px;\"><b>Finding 5.2 : </b>\n",
    "       Cost Function\n",
    " </p>\n",
    "</div>\n",
    "\n",
    "<div style=\"color:black; border-radius: 5px; margin: 5px 0;font-family:'Source Sans Pro', sans-serif;\">\n",
    " <h4 style=\"border-left: 4px solid #96D4D4; background: #D9EEE1; padding: 5px; font-family:'Source Sans Pro', sans-serif;\">Code</h4>\n",
    "</div>"
   ]
  },
  {
   "cell_type": "code",
   "execution_count": 28,
   "id": "dc54c16e",
   "metadata": {},
   "outputs": [
    {
     "data": {
      "text/plain": [
       "array([[0.],\n",
       "       [0.],\n",
       "       [0.],\n",
       "       [0.]])"
      ]
     },
     "execution_count": 28,
     "metadata": {},
     "output_type": "execute_result"
    }
   ],
   "source": [
    "theta = np.zeros( (4 , 1) )\n",
    "theta"
   ]
  },
  {
   "cell_type": "code",
   "execution_count": 66,
   "id": "3242cde6",
   "metadata": {},
   "outputs": [],
   "source": [
    "def hypothesis(Result , y):\n",
    "    hypothesis = np.zeros((len(y) , 1))\n",
    "     \n",
    "    for i in range(1):\n",
    "        counter = 0\n",
    "        for j in range(len(Result[i])):\n",
    "            #print(Result[i][j])\n",
    "            hypothesis[counter] = sigmoid(Result[i][j])\n",
    "            counter = counter + 1"
   ]
  },
  {
   "cell_type": "code",
   "execution_count": 62,
   "id": "2cf93864",
   "metadata": {},
   "outputs": [
    {
     "name": "stdout",
     "output_type": "stream",
     "text": [
      "CostFunction =  [[0.69314718]]\n"
     ]
    }
   ],
   "source": [
    "def costFunction(theta , X , y):\n",
    "    m = len(y)\n",
    "    hypothesis = np.zeros((len(y) , 1))\n",
    "    \n",
    "    Result = X @ theta  \n",
    "    \n",
    "    for i in range(1):\n",
    "        counter = 0\n",
    "        for j in range(len(Result[i])):\n",
    "            #print(Result[i][j])\n",
    "            hypothesis[counter] = sigmoid(Result[i][j])\n",
    "            counter = counter + 1\n",
    "            \n",
    "    J = (1/m) * ( np.dot(-y.T , np.log(hypothesis)) - np.dot((1 - y).T , np.log(1 - hypothesis)) )\n",
    "    \n",
    "    return J\n",
    "\n",
    "print(\"CostFunction = \" , costFunction(theta , X , y))"
   ]
  },
  {
   "cell_type": "markdown",
   "id": "521583e5",
   "metadata": {},
   "source": [
    "<div style=\"color:black; border-radius: 5px; background-color:#E7E9EB;padding: 10px;\">\n",
    "    <p style=\"  padding: 5px;\"><b>Finding 5.3 : </b>\n",
    "       Gradient Descent\n",
    " </p>\n",
    "</div>\n",
    "\n",
    "<div style=\"color:black; border-radius: 5px; margin: 5px 0;font-family:'Source Sans Pro', sans-serif;\">\n",
    " <h4 style=\"border-left: 4px solid #96D4D4; background: #D9EEE1; padding: 5px; font-family:'Source Sans Pro', sans-serif;\">Code</h4>\n",
    "</div>"
   ]
  },
  {
   "cell_type": "code",
   "execution_count": 71,
   "id": "eac126c4",
   "metadata": {},
   "outputs": [],
   "source": [
    "def gradient_descent_logistic(X , y , theta , alpha , num_iters):\n",
    "    \n",
    "    J_History = np.zeros((num_iters , 1))\n",
    "    \n",
    "    for i in range(num_iters):\n",
    "        \n",
    "        hypo = hypothesis(X @ theta , y)\n",
    "        error = hypothesis - y\n",
    "        \n",
    "        print(\"Error in iteration-\" , i , \" = \" , error)\n",
    "        \n",
    "        theta = theta - alpha * (1/m) * (X.T @ error)\n",
    "        \n",
    "        J_History[i] = costFunction(theta , X , y )\n",
    "        \n",
    "    return theta , J_History"
   ]
  },
  {
   "cell_type": "code",
   "execution_count": 72,
   "id": "b7be9098",
   "metadata": {},
   "outputs": [],
   "source": [
    "\"\"\" Test gradient descent \"\"\"\n",
    "theta = np.zeros((4 , 1))\n",
    "alpha = 0.001\n",
    "num_iter = 1500\n",
    "\n",
    "#new_theta , J_History = gradient_descent_logistic(X , y , theta , alpha , num_iter)"
   ]
  },
  {
   "cell_type": "code",
   "execution_count": null,
   "id": "66f16254",
   "metadata": {},
   "outputs": [],
   "source": []
  }
 ],
 "metadata": {
  "kernelspec": {
   "display_name": "Python 3",
   "language": "python",
   "name": "python3"
  },
  "language_info": {
   "codemirror_mode": {
    "name": "ipython",
    "version": 3
   },
   "file_extension": ".py",
   "mimetype": "text/x-python",
   "name": "python",
   "nbconvert_exporter": "python",
   "pygments_lexer": "ipython3",
   "version": "3.8.8"
  }
 },
 "nbformat": 4,
 "nbformat_minor": 5
}
